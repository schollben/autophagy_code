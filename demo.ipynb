{
 "cells": [
  {
   "cell_type": "code",
   "execution_count": 1,
   "metadata": {},
   "outputs": [
    {
     "name": "stderr",
     "output_type": "stream",
     "text": [
      "The local backend is an alias for the multiprocessing backend, and the alias may be removed in some future version of Caiman\n",
      "In setting CNMFParams, non-pathed parameters were used; this is deprecated. In some future version of Caiman, allow_legacy will default to False (and eventually will be removed)\n",
      "Default temporary dir /Users/benjaminscholl/caiman_data/temp does not exist, creating\n",
      "100%|██████████| 1/1 [00:00<00:00, 22.49it/s]\n",
      "In setting CNMFParams, non-pathed parameters were used; this is deprecated. In some future version of Caiman, allow_legacy will default to False (and eventually will be removed)\n",
      "100%|██████████| 1/1 [00:00<00:00, 23.59it/s]\n",
      "In setting CNMFParams, non-pathed parameters were used; this is deprecated. In some future version of Caiman, allow_legacy will default to False (and eventually will be removed)\n",
      "100%|██████████| 1/1 [00:00<00:00, 22.26it/s]\n",
      "In setting CNMFParams, non-pathed parameters were used; this is deprecated. In some future version of Caiman, allow_legacy will default to False (and eventually will be removed)\n",
      "100%|██████████| 1/1 [00:00<00:00, 20.17it/s]\n"
     ]
    }
   ],
   "source": [
    "# register raw data files using Caiman\n",
    "\n",
    "from registration import initial_registration\n",
    "\n",
    "# Open the channel 1 data in ImageJ/FIJI.\n",
    "# Make a maximum-value z-projection of ch1 data.\n",
    "# Use the brightness and contrast table to check for a threshold value for the data.\n",
    "# Any frames of Ch1 that have pixel values higher than this threshold are removed from the data before motion correction.'\n",
    "# A good threshold will be lower than the streak values and higher than all the values for true data.\n",
    "# Picking too low of a value (especially with a soma within view) will result in an empty Ch1 stack.\n",
    "\n",
    "ch1_thresh = input(\"Ch1 upper threshold (default is 70):\")\n",
    "if ch1_thresh == '':\n",
    "    ch1_thresh = 70\n",
    "else:\n",
    "    ch1_thresh = int(ch1_thresh)\n",
    "\n",
    "wk_dir = '/Users/benjaminscholl/Documents/autophagy_tal/file_22'\n",
    "initial_registration(wk_dir, ch1_thresh)\n"
   ]
  },
  {
   "cell_type": "code",
   "execution_count": null,
   "metadata": {},
   "outputs": [
    {
     "name": "stdout",
     "output_type": "stream",
     "text": [
      "Making kymos for: /Users/benjaminscholl/Documents/autophagy_tal/file_22\n",
      "(9, 119, 200)\n",
      "Kymograph video saved as ch2_kymo_mov_roi_0.mp4\n",
      "(9, 31, 200)\n",
      "Kymograph video saved as ch2_kymo_mov_roi_1.mp4\n",
      "(9, 27, 200)\n",
      "Kymograph video saved as ch2_kymo_mov_roi_2.mp4\n",
      "(9, 34, 200)\n",
      "Kymograph video saved as ch2_kymo_mov_roi_3.mp4\n",
      "(9, 22, 200)\n",
      "Kymograph video saved as ch2_kymo_mov_roi_4.mp4\n",
      "(9, 31, 200)\n",
      "Kymograph video saved as ch2_kymo_mov_roi_5.mp4\n",
      "(9, 43, 200)\n",
      "Kymograph video saved as ch2_kymo_mov_roi_6.mp4\n"
     ]
    }
   ],
   "source": [
    "# Check quality of registration in ImageJ/FIJI\n",
    "# If quality is good, draw segmented line ROIs for dendrites/axons in Ch2 nonrigid data.\n",
    "# These are the the regions that will be tracked.\n",
    "\n",
    "# Create kymographs for tracking particles.\n",
    "# One set of kymographs will be created for each ROI drawn\n",
    "\n",
    "kymo_width = 9 # how many pixels wide to include around dendrite/axon\n",
    "which_kymo = 1 # 1 means use rigid reg, 2 for nonrigid\n",
    "\n",
    "import os\n",
    "import sys\n",
    "sys.path.append('/Users/benjaminscholl/Documents/autophagy_tal/autophagy_code') # change to wherever autophagy_tal is located\n",
    "import tifffile\n",
    "import roifile\n",
    "from create_kymograph import create_tracking_kymo, create_kymograph, create_kymo_movie\n",
    "from glob import glob\n",
    "\n",
    "print(f\"Making kymos for: {wk_dir}\")\n",
    "\n",
    "if which_kymo == 1:\n",
    "    ch1 = tifffile.imread('ch1_rigid_registered.tif')\n",
    "    ch2 = tifffile.imread('ch2_rigid_registered.tif')\n",
    "elif which_kymo == 2:\n",
    "    ch1 = tifffile.imread('ch1_nonrigid_registered.tif')\n",
    "    ch2 = tifffile.imread('ch2_nonrigid_registered.tif')\n",
    "single_roifile = glob('*.roi')\n",
    "if 'RoiSet.zip' in os.listdir():\n",
    "    roi_list = roifile.roiread('RoiSet.zip')\n",
    "elif any(single_roifile):\n",
    "    roi_list = roifile.roiread(single_roifile[0])\n",
    "    roi_list = [roi_list]\n",
    "for i in range(len(roi_list)):\n",
    "    roi_coords = roi_list[i].coordinates()\n",
    "    ch1_kymo, _ = create_kymograph(ch1, roi_coords, kymo_width)\n",
    "    ch2_kymo, ch2_kymo_movie = create_kymograph(ch2, roi_coords, kymo_width)\n",
    "    ch2_tracking_kymo = create_tracking_kymo(ch2_kymo, roi_coords)\n",
    "\n",
    "    if not os.path.exists('kymographs'):\n",
    "        os.makedirs('kymographs')\n",
    "    \n",
    "    tifffile.imwrite(os.path.join('kymographs',f'ch1_kymo_roi_{i}.tif'), ch1_kymo)\n",
    "    tifffile.imwrite(os.path.join('kymographs' ,f'ch2_kymo_roi_{i}.tif'), ch2_kymo)\n",
    "    tifffile.imwrite(os.path.join('kymographs' ,f'ch2_tracking_kymo_roi_{i}.tif'), ch2_tracking_kymo)\n",
    "    print(ch2_kymo_movie.shape)\n",
    "    create_kymo_movie(ch2_kymo_movie, f'ch2_kymo_mov_roi_{i}.mp4')"
   ]
  },
  {
   "cell_type": "code",
   "execution_count": null,
   "metadata": {},
   "outputs": [],
   "source": [
    "# open each kymograph in ImageJ/FIJI\n",
    "# Use the segmented line tool to draw a line along a 'tracking_kymo_roi'\n",
    "# draw \n",
    "\n"
   ]
  }
 ],
 "metadata": {
  "kernelspec": {
   "display_name": "autophagy",
   "language": "python",
   "name": "python3"
  },
  "language_info": {
   "codemirror_mode": {
    "name": "ipython",
    "version": 3
   },
   "file_extension": ".py",
   "mimetype": "text/x-python",
   "name": "python",
   "nbconvert_exporter": "python",
   "pygments_lexer": "ipython3",
   "version": "3.11.11"
  }
 },
 "nbformat": 4,
 "nbformat_minor": 2
}
